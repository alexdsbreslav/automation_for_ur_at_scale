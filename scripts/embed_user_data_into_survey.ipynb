{
 "cells": [
  {
   "cell_type": "markdown",
   "metadata": {},
   "source": [
    "## basics to get everything to work\n",
    "[Learn how to find your Qualtrics IDs](https://www.qualtrics.com/support/integrations/api-integration/finding-qualtrics-ids/)"
   ]
  },
  {
   "cell_type": "code",
   "execution_count": 8,
   "metadata": {},
   "outputs": [],
   "source": [
    "# ---- import packages\n",
    "import pandas as pd\n",
    "import json\n",
    "import os\n",
    "import requests\n",
    "import base64\n",
    "import webbrowser\n",
    "\n",
    "# ---- import qualtrics ids\n",
    "qualtrics_data_center = 'YOUR QUALTRICS DATA CENTER'\n",
    "api_token = 'YOUR QUALTRICS API TOKEN'\n",
    "survey_id = 'YOUR QUALTRICS SURVEY ID'"
   ]
  },
  {
   "cell_type": "markdown",
   "metadata": {},
   "source": [
    "---\n",
    "## Let's import the (made up) user data into our notebook"
   ]
  },
  {
   "cell_type": "code",
   "execution_count": 9,
   "metadata": {},
   "outputs": [
    {
     "data": {
      "text/html": [
       "<div>\n",
       "<style scoped>\n",
       "    .dataframe tbody tr th:only-of-type {\n",
       "        vertical-align: middle;\n",
       "    }\n",
       "\n",
       "    .dataframe tbody tr th {\n",
       "        vertical-align: top;\n",
       "    }\n",
       "\n",
       "    .dataframe thead th {\n",
       "        text-align: right;\n",
       "    }\n",
       "</style>\n",
       "<table border=\"1\" class=\"dataframe\">\n",
       "  <thead>\n",
       "    <tr style=\"text-align: right;\">\n",
       "      <th></th>\n",
       "      <th>email</th>\n",
       "      <th>market</th>\n",
       "      <th>device_type</th>\n",
       "      <th>monthly_active_user</th>\n",
       "      <th>account_type</th>\n",
       "      <th>sessions_in_app_30_days</th>\n",
       "      <th>searches_in_app_30_days</th>\n",
       "    </tr>\n",
       "  </thead>\n",
       "  <tbody>\n",
       "    <tr>\n",
       "      <td>0</td>\n",
       "      <td>example_email0@outlook.com</td>\n",
       "      <td>Canada</td>\n",
       "      <td>android</td>\n",
       "      <td>1</td>\n",
       "      <td>paid</td>\n",
       "      <td>1</td>\n",
       "      <td>1</td>\n",
       "    </tr>\n",
       "    <tr>\n",
       "      <td>1</td>\n",
       "      <td>example_email1@icloud.com</td>\n",
       "      <td>US</td>\n",
       "      <td>android</td>\n",
       "      <td>1</td>\n",
       "      <td>free</td>\n",
       "      <td>17</td>\n",
       "      <td>0</td>\n",
       "    </tr>\n",
       "    <tr>\n",
       "      <td>2</td>\n",
       "      <td>example_email2@outlook.com</td>\n",
       "      <td>US</td>\n",
       "      <td>android</td>\n",
       "      <td>1</td>\n",
       "      <td>paid</td>\n",
       "      <td>4</td>\n",
       "      <td>4</td>\n",
       "    </tr>\n",
       "    <tr>\n",
       "      <td>3</td>\n",
       "      <td>example_email3@icloud.com</td>\n",
       "      <td>Canada</td>\n",
       "      <td>apple</td>\n",
       "      <td>1</td>\n",
       "      <td>paid</td>\n",
       "      <td>2</td>\n",
       "      <td>0</td>\n",
       "    </tr>\n",
       "    <tr>\n",
       "      <td>4</td>\n",
       "      <td>example_email4@gmail.com</td>\n",
       "      <td>US</td>\n",
       "      <td>android</td>\n",
       "      <td>0</td>\n",
       "      <td>paid</td>\n",
       "      <td>0</td>\n",
       "      <td>0</td>\n",
       "    </tr>\n",
       "  </tbody>\n",
       "</table>\n",
       "</div>"
      ],
      "text/plain": [
       "                        email  market device_type  monthly_active_user  \\\n",
       "0  example_email0@outlook.com  Canada     android                    1   \n",
       "1   example_email1@icloud.com      US     android                    1   \n",
       "2  example_email2@outlook.com      US     android                    1   \n",
       "3   example_email3@icloud.com  Canada       apple                    1   \n",
       "4    example_email4@gmail.com      US     android                    0   \n",
       "\n",
       "  account_type  sessions_in_app_30_days  searches_in_app_30_days  \n",
       "0         paid                        1                        1  \n",
       "1         free                       17                        0  \n",
       "2         paid                        4                        4  \n",
       "3         paid                        2                        0  \n",
       "4         paid                        0                        0  "
      ]
     },
     "execution_count": 9,
     "metadata": {},
     "output_type": "execute_result"
    }
   ],
   "source": [
    "# ---- import user data\n",
    "user_data = pd.read_excel(os.path.abspath('data/user_data.xlsx'))\n",
    "\n",
    "# ---- show top five lines of user data\n",
    "user_data.head()"
   ]
  },
  {
   "cell_type": "markdown",
   "metadata": {},
   "source": [
    "---\n",
    "## To embed user data into a survey, you need to create the data fields in the Qualtrics survey\n",
    "## Rather than go to the website and type in the column headers by hand, let's do it here"
   ]
  },
  {
   "cell_type": "code",
   "execution_count": 10,
   "metadata": {},
   "outputs": [
    {
     "data": {
      "text/plain": [
       "<Response [200]>"
      ]
     },
     "execution_count": 10,
     "metadata": {},
     "output_type": "execute_result"
    }
   ],
   "source": [
    "# create embedded data fields in the Qualtrics survey (Qualtrics need to be expect that we are going to send user data)\n",
    "# ---- reformat user data headers into embedded data fields json\n",
    "user_data_headers = {'embeddedDataFields': [{'key': column_header} for column_header in user_data.columns]}\n",
    "\n",
    "# ---- define url for post call\n",
    "url = 'https://{}/API/v3/surveys/{}/embeddeddatafields'.format(qualtrics_data_center, survey_id)\n",
    "\n",
    "# ---- post data to survey\n",
    "requests.post(url, json = user_data_headers, headers={'x-api-token': api_token, 'content-type': 'application/json'})"
   ]
  },
  {
   "cell_type": "markdown",
   "metadata": {},
   "source": [
    "## Let's go to the survey and make sure that it worked!"
   ]
  },
  {
   "cell_type": "code",
   "execution_count": 4,
   "metadata": {},
   "outputs": [],
   "source": [
    "webbrowser.open('https://duke.ca1.qualtrics.com/Q/EditSection/Blocks?ContextSurveyID=SV_2t0TlwmrGFbCFsp');"
   ]
  },
  {
   "cell_type": "markdown",
   "metadata": {},
   "source": [
    "---\n",
    "## Now we create unique survey links. When a person opens the survey using their unique link, their user data gets embedded"
   ]
  },
  {
   "cell_type": "code",
   "execution_count": 11,
   "metadata": {},
   "outputs": [
    {
     "data": {
      "text/html": [
       "<div>\n",
       "<style scoped>\n",
       "    .dataframe tbody tr th:only-of-type {\n",
       "        vertical-align: middle;\n",
       "    }\n",
       "\n",
       "    .dataframe tbody tr th {\n",
       "        vertical-align: top;\n",
       "    }\n",
       "\n",
       "    .dataframe thead th {\n",
       "        text-align: right;\n",
       "    }\n",
       "</style>\n",
       "<table border=\"1\" class=\"dataframe\">\n",
       "  <thead>\n",
       "    <tr style=\"text-align: right;\">\n",
       "      <th></th>\n",
       "      <th>unique_survey_link</th>\n",
       "    </tr>\n",
       "    <tr>\n",
       "      <th>email</th>\n",
       "      <th></th>\n",
       "    </tr>\n",
       "  </thead>\n",
       "  <tbody>\n",
       "    <tr>\n",
       "      <td>example_email0@outlook.com</td>\n",
       "      <td>https://duke.ca1.qualtrics.com/jfe/form/SV_2t0...</td>\n",
       "    </tr>\n",
       "    <tr>\n",
       "      <td>example_email1@icloud.com</td>\n",
       "      <td>https://duke.ca1.qualtrics.com/jfe/form/SV_2t0...</td>\n",
       "    </tr>\n",
       "    <tr>\n",
       "      <td>example_email2@outlook.com</td>\n",
       "      <td>https://duke.ca1.qualtrics.com/jfe/form/SV_2t0...</td>\n",
       "    </tr>\n",
       "    <tr>\n",
       "      <td>example_email3@icloud.com</td>\n",
       "      <td>https://duke.ca1.qualtrics.com/jfe/form/SV_2t0...</td>\n",
       "    </tr>\n",
       "    <tr>\n",
       "      <td>example_email4@gmail.com</td>\n",
       "      <td>https://duke.ca1.qualtrics.com/jfe/form/SV_2t0...</td>\n",
       "    </tr>\n",
       "  </tbody>\n",
       "</table>\n",
       "</div>"
      ],
      "text/plain": [
       "                                                           unique_survey_link\n",
       "email                                                                        \n",
       "example_email0@outlook.com  https://duke.ca1.qualtrics.com/jfe/form/SV_2t0...\n",
       "example_email1@icloud.com   https://duke.ca1.qualtrics.com/jfe/form/SV_2t0...\n",
       "example_email2@outlook.com  https://duke.ca1.qualtrics.com/jfe/form/SV_2t0...\n",
       "example_email3@icloud.com   https://duke.ca1.qualtrics.com/jfe/form/SV_2t0...\n",
       "example_email4@gmail.com    https://duke.ca1.qualtrics.com/jfe/form/SV_2t0..."
      ]
     },
     "execution_count": 11,
     "metadata": {},
     "output_type": "execute_result"
    }
   ],
   "source": [
    "# create unique survey links; when a user opens the survey link, it embeds their user data into the survey response\n",
    "unique_links = []\n",
    "for row in user_data.index:\n",
    "    # ---- data needs to be base64 encoded\n",
    "    encoded_user_data = base64.b64encode(bytes(user_data.loc[row].to_json(), 'utf-8')).decode('utf-8')\n",
    "    # ---- encoded data gets appended to the end of the survey link using Qualtric's Q_EED function\n",
    "    unique_links.append('https://{}/jfe/form/{}?Q_EED={}'.format(qualtrics_data_center, survey_id, encoded_user_data))\n",
    "user_data['unique_survey_link'] = unique_links\n",
    "\n",
    "# ---- export survey distribution list\n",
    "email_distribution_list = user_data.set_index('email')[['unique_survey_link']]\n",
    "email_distribution_list.to_excel(os.path.abspath('data/survey_distribution_list.xlsx.xlsx'))\n",
    "\n",
    "# ---- show top 5 lines of email distribution list\n",
    "email_distribution_list.head()"
   ]
  },
  {
   "cell_type": "markdown",
   "metadata": {},
   "source": [
    "## Let's open the first link and make sure everything worked!"
   ]
  },
  {
   "cell_type": "code",
   "execution_count": 12,
   "metadata": {},
   "outputs": [],
   "source": [
    "webbrowser.open(email_distribution_list.unique_survey_link.values[0]);"
   ]
  }
 ],
 "metadata": {
  "kernelspec": {
   "display_name": "Python [conda env:update2020]",
   "language": "python",
   "name": "conda-env-update2020-py"
  },
  "language_info": {
   "codemirror_mode": {
    "name": "ipython",
    "version": 3
   },
   "file_extension": ".py",
   "mimetype": "text/x-python",
   "name": "python",
   "nbconvert_exporter": "python",
   "pygments_lexer": "ipython3",
   "version": "3.7.4"
  }
 },
 "nbformat": 4,
 "nbformat_minor": 4
}
