{
 "cells": [
  {
   "cell_type": "markdown",
   "metadata": {},
   "source": [
    "## Import packages to get your notebook to work!"
   ]
  },
  {
   "cell_type": "code",
   "execution_count": 2,
   "metadata": {},
   "outputs": [],
   "source": [
    "# ---- import packages\n",
    "import pandas as pd\n",
    "import json\n",
    "import os\n",
    "import requests\n",
    "import base64\n",
    "import webbrowser\n",
    "\n",
    "# ---- this will make the links that we print out clickable!\n",
    "def make_clickable(val):\n",
    "    return '<a href=\"{}\">{}</a>'.format(val,val)"
   ]
  },
  {
   "cell_type": "markdown",
   "metadata": {},
   "source": [
    "## Import your user researcher's Qualtrics IDs\n",
    "[How to find the Qualtrics IDs on Qualtrics](https://www.qualtrics.com/support/integrations/api-integration/finding-qualtrics-ids/#LocatingQualtricsIDs)"
   ]
  },
  {
   "cell_type": "code",
   "execution_count": 4,
   "metadata": {},
   "outputs": [],
   "source": [
    "# ---- import qualtrics ids\n",
    "qualtrics_data_center = 'YOUR QUALTRICS DATA CENTER'\n",
    "api_token = 'YOUR QUALTRICS API TOKEN'\n",
    "survey_id = 'YOUR QUALTRICS SURVEY ID'"
   ]
  },
  {
   "cell_type": "markdown",
   "metadata": {},
   "source": [
    "---\n",
    "## Let's import the (made up) user data into our notebook"
   ]
  },
  {
   "cell_type": "code",
   "execution_count": 16,
   "metadata": {},
   "outputs": [
    {
     "data": {
      "text/html": [
       "<div>\n",
       "<style scoped>\n",
       "    .dataframe tbody tr th:only-of-type {\n",
       "        vertical-align: middle;\n",
       "    }\n",
       "\n",
       "    .dataframe tbody tr th {\n",
       "        vertical-align: top;\n",
       "    }\n",
       "\n",
       "    .dataframe thead th {\n",
       "        text-align: right;\n",
       "    }\n",
       "</style>\n",
       "<table border=\"1\" class=\"dataframe\">\n",
       "  <thead>\n",
       "    <tr style=\"text-align: right;\">\n",
       "      <th></th>\n",
       "      <th>email</th>\n",
       "      <th>market</th>\n",
       "      <th>device_type</th>\n",
       "      <th>monthly_active_user</th>\n",
       "      <th>account_type</th>\n",
       "      <th>sessions_in_app_30_days</th>\n",
       "      <th>searches_in_app_30_days</th>\n",
       "    </tr>\n",
       "  </thead>\n",
       "  <tbody>\n",
       "    <tr>\n",
       "      <td>0</td>\n",
       "      <td>example_email0@outlook.com</td>\n",
       "      <td>Canada</td>\n",
       "      <td>android</td>\n",
       "      <td>1</td>\n",
       "      <td>paid</td>\n",
       "      <td>1</td>\n",
       "      <td>1</td>\n",
       "    </tr>\n",
       "    <tr>\n",
       "      <td>1</td>\n",
       "      <td>example_email1@icloud.com</td>\n",
       "      <td>US</td>\n",
       "      <td>android</td>\n",
       "      <td>1</td>\n",
       "      <td>free</td>\n",
       "      <td>17</td>\n",
       "      <td>0</td>\n",
       "    </tr>\n",
       "    <tr>\n",
       "      <td>2</td>\n",
       "      <td>example_email2@outlook.com</td>\n",
       "      <td>US</td>\n",
       "      <td>android</td>\n",
       "      <td>1</td>\n",
       "      <td>paid</td>\n",
       "      <td>4</td>\n",
       "      <td>4</td>\n",
       "    </tr>\n",
       "    <tr>\n",
       "      <td>3</td>\n",
       "      <td>example_email3@icloud.com</td>\n",
       "      <td>Canada</td>\n",
       "      <td>apple</td>\n",
       "      <td>1</td>\n",
       "      <td>paid</td>\n",
       "      <td>2</td>\n",
       "      <td>0</td>\n",
       "    </tr>\n",
       "    <tr>\n",
       "      <td>4</td>\n",
       "      <td>example_email4@gmail.com</td>\n",
       "      <td>US</td>\n",
       "      <td>android</td>\n",
       "      <td>0</td>\n",
       "      <td>paid</td>\n",
       "      <td>0</td>\n",
       "      <td>0</td>\n",
       "    </tr>\n",
       "  </tbody>\n",
       "</table>\n",
       "</div>"
      ],
      "text/plain": [
       "                        email  market device_type  monthly_active_user  \\\n",
       "0  example_email0@outlook.com  Canada     android                    1   \n",
       "1   example_email1@icloud.com      US     android                    1   \n",
       "2  example_email2@outlook.com      US     android                    1   \n",
       "3   example_email3@icloud.com  Canada       apple                    1   \n",
       "4    example_email4@gmail.com      US     android                    0   \n",
       "\n",
       "  account_type  sessions_in_app_30_days  searches_in_app_30_days  \n",
       "0         paid                        1                        1  \n",
       "1         free                       17                        0  \n",
       "2         paid                        4                        4  \n",
       "3         paid                        2                        0  \n",
       "4         paid                        0                        0  "
      ]
     },
     "execution_count": 16,
     "metadata": {},
     "output_type": "execute_result"
    }
   ],
   "source": [
    "# ---- import user data\n",
    "repo_path = os.path.dirname(os.path.abspath(''))\n",
    "user_data = pd.read_excel(os.path.join(repo_path, 'data/user_data.xlsx'))\n",
    "\n",
    "# ---- show top five lines of user data\n",
    "user_data.head()"
   ]
  },
  {
   "cell_type": "markdown",
   "metadata": {},
   "source": [
    "---\n",
    "## Create the embedded data fields in the Qualtrics survey\n",
    "To embed user data into a survey, you need to tell Qualtrics to look for it.  \n",
    "Rather than [go to the website and type in the column headers by hand](https://www.qualtrics.com/support/survey-platform/survey-module/survey-flow/standard-elements/embedded-data/#CreatingAnEmbeddedDataElement), let's do it here."
   ]
  },
  {
   "cell_type": "code",
   "execution_count": 10,
   "metadata": {},
   "outputs": [
    {
     "data": {
      "text/plain": [
       "<Response [200]>"
      ]
     },
     "execution_count": 10,
     "metadata": {},
     "output_type": "execute_result"
    }
   ],
   "source": [
    "# create embedded data fields in the Qualtrics survey (Qualtrics need to be expect that we are going to send user data)\n",
    "# ---- reformat user data headers into embedded data fields json\n",
    "user_data_headers = {'embeddedDataFields': [{'key': column_header} for column_header in user_data.columns]}\n",
    "\n",
    "# ---- define url for post call\n",
    "url = 'https://{}/API/v3/surveys/{}/embeddeddatafields'.format(qualtrics_data_center, survey_id)\n",
    "\n",
    "# ---- post data to survey\n",
    "requests.post(url, json = user_data_headers, headers={'x-api-token': api_token, 'content-type': 'application/json'})"
   ]
  },
  {
   "cell_type": "markdown",
   "metadata": {},
   "source": [
    "- What does `<Response [200]>` mean? **Success!** Your columns headers were successfully turned into embedded data fields in your survey.\n",
    "- I got `<Response [403]>`? **Permission Denied...** Your user researcher does not have permission to interact with the API. You will need to contact your IT administrator to get the setting on the license changed!\n",
    "- I got `<Response [400]>`? **Attempt Failed...** Your user researcher has permission to interact with the API, but your request did not work. Every time I ran into this issue, it was because of a typo that meant I was not sending Qualtrics the data in the form that they expected.\n",
    "\n"
   ]
  },
  {
   "cell_type": "markdown",
   "metadata": {},
   "source": [
    "## Let's go to the survey and make sure that it worked!"
   ]
  },
  {
   "cell_type": "code",
   "execution_count": 12,
   "metadata": {},
   "outputs": [
    {
     "data": {
      "text/html": [
       "<style  type=\"text/css\" >\n",
       "</style><table id=\"T_a17287fc_6183_11ea_a273_4c327590a447\" ><thead>    <tr>        <th class=\"blank level0\" ></th>        <th class=\"col_heading level0 col0\" >link to your survey</th>    </tr></thead><tbody>\n",
       "                <tr>\n",
       "                        <th id=\"T_a17287fc_6183_11ea_a273_4c327590a447level0_row0\" class=\"row_heading level0 row0\" >click:</th>\n",
       "                        <td id=\"T_a17287fc_6183_11ea_a273_4c327590a447row0_col0\" class=\"data row0 col0\" ><a href=\"https://YOUR QUALTRICS DATA CENTER/Q/EditSection/Blocks?ContextSurveyID=YOUR QUALTRICS SURVEY ID\">https://YOUR QUALTRICS DATA CENTER/Q/EditSection/Blocks?ContextSurveyID=YOUR QUALTRICS SURVEY ID</a></td>\n",
       "            </tr>\n",
       "    </tbody></table>"
      ],
      "text/plain": [
       "<pandas.io.formats.style.Styler at 0x12381b3d0>"
      ]
     },
     "execution_count": 12,
     "metadata": {},
     "output_type": "execute_result"
    }
   ],
   "source": [
    "pd.DataFrame(\n",
    "    ['https://{}/Q/EditSection/Blocks?ContextSurveyID={}'.format(qualtrics_data_center, survey_id)],\n",
    "    columns = ['link to your survey'],\n",
    "    index = ['click:'])\\\n",
    ".style.format(make_clickable)"
   ]
  },
  {
   "cell_type": "markdown",
   "metadata": {},
   "source": [
    "---\n",
    "## Create the unique survey links\n",
    "When a person opens the survey using their unique link, their user data gets embedded."
   ]
  },
  {
   "cell_type": "code",
   "execution_count": 17,
   "metadata": {},
   "outputs": [
    {
     "data": {
      "text/html": [
       "<div>\n",
       "<style scoped>\n",
       "    .dataframe tbody tr th:only-of-type {\n",
       "        vertical-align: middle;\n",
       "    }\n",
       "\n",
       "    .dataframe tbody tr th {\n",
       "        vertical-align: top;\n",
       "    }\n",
       "\n",
       "    .dataframe thead th {\n",
       "        text-align: right;\n",
       "    }\n",
       "</style>\n",
       "<table border=\"1\" class=\"dataframe\">\n",
       "  <thead>\n",
       "    <tr style=\"text-align: right;\">\n",
       "      <th></th>\n",
       "      <th>unique_survey_link</th>\n",
       "    </tr>\n",
       "    <tr>\n",
       "      <th>email</th>\n",
       "      <th></th>\n",
       "    </tr>\n",
       "  </thead>\n",
       "  <tbody>\n",
       "    <tr>\n",
       "      <td>example_email0@outlook.com</td>\n",
       "      <td>https://YOUR QUALTRICS DATA CENTER/jfe/form/YO...</td>\n",
       "    </tr>\n",
       "    <tr>\n",
       "      <td>example_email1@icloud.com</td>\n",
       "      <td>https://YOUR QUALTRICS DATA CENTER/jfe/form/YO...</td>\n",
       "    </tr>\n",
       "    <tr>\n",
       "      <td>example_email2@outlook.com</td>\n",
       "      <td>https://YOUR QUALTRICS DATA CENTER/jfe/form/YO...</td>\n",
       "    </tr>\n",
       "    <tr>\n",
       "      <td>example_email3@icloud.com</td>\n",
       "      <td>https://YOUR QUALTRICS DATA CENTER/jfe/form/YO...</td>\n",
       "    </tr>\n",
       "    <tr>\n",
       "      <td>example_email4@gmail.com</td>\n",
       "      <td>https://YOUR QUALTRICS DATA CENTER/jfe/form/YO...</td>\n",
       "    </tr>\n",
       "  </tbody>\n",
       "</table>\n",
       "</div>"
      ],
      "text/plain": [
       "                                                           unique_survey_link\n",
       "email                                                                        \n",
       "example_email0@outlook.com  https://YOUR QUALTRICS DATA CENTER/jfe/form/YO...\n",
       "example_email1@icloud.com   https://YOUR QUALTRICS DATA CENTER/jfe/form/YO...\n",
       "example_email2@outlook.com  https://YOUR QUALTRICS DATA CENTER/jfe/form/YO...\n",
       "example_email3@icloud.com   https://YOUR QUALTRICS DATA CENTER/jfe/form/YO...\n",
       "example_email4@gmail.com    https://YOUR QUALTRICS DATA CENTER/jfe/form/YO..."
      ]
     },
     "execution_count": 17,
     "metadata": {},
     "output_type": "execute_result"
    }
   ],
   "source": [
    "# create unique survey links; when a user opens the survey link, it embeds their user data into the survey response\n",
    "unique_links = []\n",
    "for row in user_data.index:\n",
    "    # ---- data needs to be base64 encoded\n",
    "    encoded_user_data = base64.b64encode(bytes(user_data.loc[row].to_json(), 'utf-8')).decode('utf-8')\n",
    "    # ---- encoded data gets appended to the end of the survey link using Qualtric's Q_EED function\n",
    "    unique_links.append('https://{}/jfe/form/{}?Q_EED={}'.format(qualtrics_data_center, survey_id, encoded_user_data))\n",
    "user_data['unique_survey_link'] = unique_links\n",
    "\n",
    "# ---- export survey distribution list\n",
    "email_distribution_list = user_data.set_index('email')[['unique_survey_link']]\n",
    "email_distribution_list.to_excel(os.path.join(repo_path, 'data/survey_distribution_list.xlsx'))\n",
    "\n",
    "# ---- show top 5 lines of email distribution list\n",
    "email_distribution_list.head()"
   ]
  },
  {
   "cell_type": "markdown",
   "metadata": {},
   "source": [
    "## Let's open the first link and make sure everything worked!"
   ]
  },
  {
   "cell_type": "code",
   "execution_count": 18,
   "metadata": {},
   "outputs": [
    {
     "data": {
      "text/html": [
       "<style  type=\"text/css\" >\n",
       "</style><table id=\"T_d3352f24_6183_11ea_a273_4c327590a447\" ><thead>    <tr>        <th class=\"blank level0\" ></th>        <th class=\"col_heading level0 col0\" >link to your survey</th>    </tr></thead><tbody>\n",
       "                <tr>\n",
       "                        <th id=\"T_d3352f24_6183_11ea_a273_4c327590a447level0_row0\" class=\"row_heading level0 row0\" >click:</th>\n",
       "                        <td id=\"T_d3352f24_6183_11ea_a273_4c327590a447row0_col0\" class=\"data row0 col0\" ><a href=\"https://YOUR QUALTRICS DATA CENTER/jfe/form/YOUR QUALTRICS SURVEY ID?Q_EED=eyJlbWFpbCI6ImV4YW1wbGVfZW1haWwwQG91dGxvb2suY29tIiwibWFya2V0IjoiQ2FuYWRhIiwiZGV2aWNlX3R5cGUiOiJhbmRyb2lkIiwibW9udGhseV9hY3RpdmVfdXNlciI6MSwiYWNjb3VudF90eXBlIjoicGFpZCIsInNlc3Npb25zX2luX2FwcF8zMF9kYXlzIjoxLCJzZWFyY2hlc19pbl9hcHBfMzBfZGF5cyI6MX0=\">https://YOUR QUALTRICS DATA CENTER/jfe/form/YOUR QUALTRICS SURVEY ID?Q_EED=eyJlbWFpbCI6ImV4YW1wbGVfZW1haWwwQG91dGxvb2suY29tIiwibWFya2V0IjoiQ2FuYWRhIiwiZGV2aWNlX3R5cGUiOiJhbmRyb2lkIiwibW9udGhseV9hY3RpdmVfdXNlciI6MSwiYWNjb3VudF90eXBlIjoicGFpZCIsInNlc3Npb25zX2luX2FwcF8zMF9kYXlzIjoxLCJzZWFyY2hlc19pbl9hcHBfMzBfZGF5cyI6MX0=</a></td>\n",
       "            </tr>\n",
       "    </tbody></table>"
      ],
      "text/plain": [
       "<pandas.io.formats.style.Styler at 0x123af7c90>"
      ]
     },
     "execution_count": 18,
     "metadata": {},
     "output_type": "execute_result"
    }
   ],
   "source": [
    "pd.DataFrame(\n",
    "    ['{}'.format(email_distribution_list.unique_survey_link.values[0])],\n",
    "    columns = ['link to your survey'],\n",
    "    index = ['click:'])\\\n",
    ".style.format(make_clickable)"
   ]
  },
  {
   "cell_type": "markdown",
   "metadata": {},
   "source": [
    "---\n",
    "---\n",
    "---\n",
    "## A brief warning -- the user data are not encrypted!\n",
    "By placing user data in the link, anyone with knowledge of base64 encoding or the Qualtrics Q_EED function would be able to see their own user data.  \n",
    "Below, I've decoded the first link:"
   ]
  },
  {
   "cell_type": "code",
   "execution_count": 10,
   "metadata": {},
   "outputs": [
    {
     "data": {
      "text/plain": [
       "b'{\"email\":\"example_email0@outlook.com\",\"market\":\"Canada\",\"device_type\":\"android\",\"monthly_active_user\":1,\"account_type\":\"paid\",\"sessions_in_app_30_days\":1,\"searches_in_app_30_days\":1}'"
      ]
     },
     "execution_count": 10,
     "metadata": {},
     "output_type": "execute_result"
    }
   ],
   "source": [
    "base64.b64decode(email_distribution_list.unique_survey_link.values[0].split('Q_EED=')[1])"
   ]
  },
  {
   "cell_type": "markdown",
   "metadata": {},
   "source": [
    "If this violates your data handling policy, make sure that you encrypt the user data before you embed the column headers in the survey.  \n",
    "It is important to do it before embedding the column headers in the survey because:\n",
    "- If the column headers are unencrypted (email, market etc.)\n",
    "- But our data are encrypted (01242, 98231 etc.)\n",
    "- The the data keys will not match with the fields that Qualtrics expects and it will not work!"
   ]
  }
 ],
 "metadata": {
  "kernelspec": {
   "display_name": "Python 3",
   "language": "python",
   "name": "python3"
  },
  "language_info": {
   "codemirror_mode": {
    "name": "ipython",
    "version": 3
   },
   "file_extension": ".py",
   "mimetype": "text/x-python",
   "name": "python",
   "nbconvert_exporter": "python",
   "pygments_lexer": "ipython3",
   "version": "3.7.6"
  }
 },
 "nbformat": 4,
 "nbformat_minor": 4
}
